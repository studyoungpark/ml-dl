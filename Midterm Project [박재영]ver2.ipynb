{
 "cells": [
  {
   "cell_type": "markdown",
   "id": "f65b673d",
   "metadata": {},
   "source": [
    "# Kaggle Project.ver2"
   ]
  },
  {
   "cell_type": "markdown",
   "id": "8f01a265",
   "metadata": {},
   "source": [
    "## Describe Your Dataset\n",
    "ver1에서 샘플의 수가 크고\n",
    "nan 데이터가 많아 오류발생.\n",
    "\n",
    "->ver2에서는 데이터 전처리 후 진행\n"
   ]
  },
  {
   "cell_type": "markdown",
   "id": "a4f2c779",
   "metadata": {},
   "source": [
    "**URL:** https://www.kaggle.com/datasets/utkarshx27/riding-with-a-driver-who-has-been-drinking?resource=download"
   ]
  },
  {
   "cell_type": "markdown",
   "id": "2ee95bd2",
   "metadata": {},
   "source": [
    "**Task:**\n",
    "\n",
    "학생들의 음주운전 가능성 예측"
   ]
  },
  {
   "cell_type": "markdown",
   "id": "925b65df",
   "metadata": {},
   "source": [
    "**Datasets**\n",
    "\n",
    "total data = 12282\n",
    "**\n",
    "-> total data = 2000\n",
    "Train:Val:Test= 8:2:2\n"
   ]
  },
  {
   "cell_type": "markdown",
   "id": "efd627a2",
   "metadata": {},
   "source": [
    "**Features(x):**\n",
    "\n",
    "'female'= 1=female or 0=male\n",
    "\n",
    "'grade' = \tYear in high school: 9, 10, 11, or 12\n",
    "\n",
    "'smoke' = \tEver smoked? 1=yes or 0=no\n",
    "\n",
    "'DriverLicense' = Have a driver's license? 1=yes or 0=no\n",
    "\n",
    "'age4' = Age (in years)"
   ]
  },
  {
   "cell_type": "markdown",
   "id": "07cad80b",
   "metadata": {},
   "source": [
    "**Target(y):**\n",
    "\n",
    "ride.alc.driver = 1=rode with a drinking driver in past 30 days or 0=did not"
   ]
  },
  {
   "cell_type": "markdown",
   "id": "f6df73f8",
   "metadata": {},
   "source": [
    "---"
   ]
  },
  {
   "cell_type": "markdown",
   "id": "a3ccb4a7",
   "metadata": {},
   "source": [
    "## Build Your Model"
   ]
  },
  {
   "cell_type": "markdown",
   "id": "575c8d37",
   "metadata": {},
   "source": [
    "### Data preprocessing"
   ]
  },
  {
   "cell_type": "code",
   "execution_count": 21,
   "id": "486febaa",
   "metadata": {},
   "outputs": [],
   "source": [
    "import numpy as np\n",
    "import pandas as pd\n",
    "import warnings\n",
    "\n",
    "# Data Visualization\n",
    "import matplotlib.pyplot as plt\n",
    "import seaborn as sns\n",
    "from sklearn.preprocessing import  StandardScaler\n",
    "\n",
    "# Model Selection\n",
    "from sklearn.model_selection import train_test_split, cross_val_score, GridSearchCV\n",
    "from sklearn.metrics import confusion_matrix\n",
    "\n",
    "# Model Libraries\n",
    "from sklearn.linear_model import LogisticRegression\n",
    "from sklearn.neighbors import KNeighborsClassifier\n",
    "from sklearn.svm import SVC\n",
    "from sklearn.tree import DecisionTreeClassifier\n",
    "from sklearn.ensemble import RandomForestClassifier\n",
    "from sklearn.metrics import accuracy_score\n",
    "from sklearn import tree\n",
    "from sklearn.model_selection import GridSearchCV\n",
    "warnings.filterwarnings(action='ignore')\n",
    "## codes"
   ]
  },
  {
   "cell_type": "code",
   "execution_count": 22,
   "id": "bc609ccf",
   "metadata": {},
   "outputs": [
    {
     "data": {
      "text/html": [
       "<div>\n",
       "<style scoped>\n",
       "    .dataframe tbody tr th:only-of-type {\n",
       "        vertical-align: middle;\n",
       "    }\n",
       "\n",
       "    .dataframe tbody tr th {\n",
       "        vertical-align: top;\n",
       "    }\n",
       "\n",
       "    .dataframe thead th {\n",
       "        text-align: right;\n",
       "    }\n",
       "</style>\n",
       "<table border=\"1\" class=\"dataframe\">\n",
       "  <thead>\n",
       "    <tr style=\"text-align: right;\">\n",
       "      <th></th>\n",
       "      <th>ride.alc.driver</th>\n",
       "      <th>female</th>\n",
       "      <th>grade</th>\n",
       "      <th>age4</th>\n",
       "      <th>smoke</th>\n",
       "      <th>DriverLicense</th>\n",
       "    </tr>\n",
       "  </thead>\n",
       "  <tbody>\n",
       "    <tr>\n",
       "      <th>0</th>\n",
       "      <td>0</td>\n",
       "      <td>1</td>\n",
       "      <td>11</td>\n",
       "      <td>16</td>\n",
       "      <td>1</td>\n",
       "      <td>1</td>\n",
       "    </tr>\n",
       "    <tr>\n",
       "      <th>1</th>\n",
       "      <td>1</td>\n",
       "      <td>0</td>\n",
       "      <td>11</td>\n",
       "      <td>16</td>\n",
       "      <td>1</td>\n",
       "      <td>1</td>\n",
       "    </tr>\n",
       "    <tr>\n",
       "      <th>2</th>\n",
       "      <td>1</td>\n",
       "      <td>0</td>\n",
       "      <td>11</td>\n",
       "      <td>16</td>\n",
       "      <td>0</td>\n",
       "      <td>1</td>\n",
       "    </tr>\n",
       "    <tr>\n",
       "      <th>3</th>\n",
       "      <td>0</td>\n",
       "      <td>0</td>\n",
       "      <td>12</td>\n",
       "      <td>17</td>\n",
       "      <td>0</td>\n",
       "      <td>1</td>\n",
       "    </tr>\n",
       "    <tr>\n",
       "      <th>4</th>\n",
       "      <td>0</td>\n",
       "      <td>0</td>\n",
       "      <td>11</td>\n",
       "      <td>17</td>\n",
       "      <td>1</td>\n",
       "      <td>1</td>\n",
       "    </tr>\n",
       "  </tbody>\n",
       "</table>\n",
       "</div>"
      ],
      "text/plain": [
       "   ride.alc.driver  female  grade  age4  smoke  DriverLicense\n",
       "0                0       1     11    16      1              1\n",
       "1                1       0     11    16      1              1\n",
       "2                1       0     11    16      0              1\n",
       "3                0       0     12    17      0              1\n",
       "4                0       0     11    17      1              1"
      ]
     },
     "execution_count": 22,
     "metadata": {},
     "output_type": "execute_result"
    }
   ],
   "source": [
    "\n",
    "data=pd.read_csv(\"data/data1.csv\" )\n",
    "data.head()\n",
    "\n",
    "#데이터셋 불러오기"
   ]
  },
  {
   "cell_type": "code",
   "execution_count": 23,
   "id": "0129d139",
   "metadata": {
    "scrolled": true
   },
   "outputs": [
    {
     "data": {
      "text/plain": [
       "pandas.core.frame.DataFrame"
      ]
     },
     "execution_count": 23,
     "metadata": {},
     "output_type": "execute_result"
    }
   ],
   "source": [
    "type(data)"
   ]
  },
  {
   "cell_type": "code",
   "execution_count": 24,
   "id": "cd88594c",
   "metadata": {
    "scrolled": true
   },
   "outputs": [
    {
     "data": {
      "text/html": [
       "<div>\n",
       "<style scoped>\n",
       "    .dataframe tbody tr th:only-of-type {\n",
       "        vertical-align: middle;\n",
       "    }\n",
       "\n",
       "    .dataframe tbody tr th {\n",
       "        vertical-align: top;\n",
       "    }\n",
       "\n",
       "    .dataframe thead th {\n",
       "        text-align: right;\n",
       "    }\n",
       "</style>\n",
       "<table border=\"1\" class=\"dataframe\">\n",
       "  <thead>\n",
       "    <tr style=\"text-align: right;\">\n",
       "      <th></th>\n",
       "      <th>ride.alc.driver</th>\n",
       "      <th>female</th>\n",
       "      <th>grade</th>\n",
       "      <th>age4</th>\n",
       "      <th>smoke</th>\n",
       "      <th>DriverLicense</th>\n",
       "    </tr>\n",
       "  </thead>\n",
       "  <tbody>\n",
       "    <tr>\n",
       "      <th>0</th>\n",
       "      <td>0</td>\n",
       "      <td>1</td>\n",
       "      <td>11</td>\n",
       "      <td>16</td>\n",
       "      <td>1</td>\n",
       "      <td>1</td>\n",
       "    </tr>\n",
       "    <tr>\n",
       "      <th>1</th>\n",
       "      <td>1</td>\n",
       "      <td>0</td>\n",
       "      <td>11</td>\n",
       "      <td>16</td>\n",
       "      <td>1</td>\n",
       "      <td>1</td>\n",
       "    </tr>\n",
       "    <tr>\n",
       "      <th>2</th>\n",
       "      <td>1</td>\n",
       "      <td>0</td>\n",
       "      <td>11</td>\n",
       "      <td>16</td>\n",
       "      <td>0</td>\n",
       "      <td>1</td>\n",
       "    </tr>\n",
       "    <tr>\n",
       "      <th>3</th>\n",
       "      <td>0</td>\n",
       "      <td>0</td>\n",
       "      <td>12</td>\n",
       "      <td>17</td>\n",
       "      <td>0</td>\n",
       "      <td>1</td>\n",
       "    </tr>\n",
       "    <tr>\n",
       "      <th>4</th>\n",
       "      <td>0</td>\n",
       "      <td>0</td>\n",
       "      <td>11</td>\n",
       "      <td>17</td>\n",
       "      <td>1</td>\n",
       "      <td>1</td>\n",
       "    </tr>\n",
       "    <tr>\n",
       "      <th>...</th>\n",
       "      <td>...</td>\n",
       "      <td>...</td>\n",
       "      <td>...</td>\n",
       "      <td>...</td>\n",
       "      <td>...</td>\n",
       "      <td>...</td>\n",
       "    </tr>\n",
       "    <tr>\n",
       "      <th>1995</th>\n",
       "      <td>0</td>\n",
       "      <td>0</td>\n",
       "      <td>11</td>\n",
       "      <td>16</td>\n",
       "      <td>0</td>\n",
       "      <td>1</td>\n",
       "    </tr>\n",
       "    <tr>\n",
       "      <th>1996</th>\n",
       "      <td>1</td>\n",
       "      <td>1</td>\n",
       "      <td>11</td>\n",
       "      <td>17</td>\n",
       "      <td>1</td>\n",
       "      <td>1</td>\n",
       "    </tr>\n",
       "    <tr>\n",
       "      <th>1997</th>\n",
       "      <td>0</td>\n",
       "      <td>1</td>\n",
       "      <td>9</td>\n",
       "      <td>15</td>\n",
       "      <td>1</td>\n",
       "      <td>0</td>\n",
       "    </tr>\n",
       "    <tr>\n",
       "      <th>1998</th>\n",
       "      <td>1</td>\n",
       "      <td>1</td>\n",
       "      <td>10</td>\n",
       "      <td>16</td>\n",
       "      <td>1</td>\n",
       "      <td>1</td>\n",
       "    </tr>\n",
       "    <tr>\n",
       "      <th>1999</th>\n",
       "      <td>1</td>\n",
       "      <td>0</td>\n",
       "      <td>12</td>\n",
       "      <td>17</td>\n",
       "      <td>0</td>\n",
       "      <td>1</td>\n",
       "    </tr>\n",
       "  </tbody>\n",
       "</table>\n",
       "<p>2000 rows × 6 columns</p>\n",
       "</div>"
      ],
      "text/plain": [
       "      ride.alc.driver  female  grade  age4  smoke  DriverLicense\n",
       "0                   0       1     11    16      1              1\n",
       "1                   1       0     11    16      1              1\n",
       "2                   1       0     11    16      0              1\n",
       "3                   0       0     12    17      0              1\n",
       "4                   0       0     11    17      1              1\n",
       "...               ...     ...    ...   ...    ...            ...\n",
       "1995                0       0     11    16      0              1\n",
       "1996                1       1     11    17      1              1\n",
       "1997                0       1      9    15      1              0\n",
       "1998                1       1     10    16      1              1\n",
       "1999                1       0     12    17      0              1\n",
       "\n",
       "[2000 rows x 6 columns]"
      ]
     },
     "execution_count": 24,
     "metadata": {},
     "output_type": "execute_result"
    }
   ],
   "source": [
    "df=pd.DataFrame(data)\n",
    "df"
   ]
  },
  {
   "cell_type": "code",
   "execution_count": 25,
   "id": "9a225a25",
   "metadata": {
    "scrolled": true
   },
   "outputs": [
    {
     "data": {
      "text/plain": [
       "0    1382\n",
       "1     618\n",
       "Name: ride.alc.driver, dtype: int64"
      ]
     },
     "execution_count": 25,
     "metadata": {},
     "output_type": "execute_result"
    }
   ],
   "source": [
    "df[\"ride.alc.driver\"].value_counts()"
   ]
  },
  {
   "cell_type": "code",
   "execution_count": 26,
   "id": "30421046",
   "metadata": {
    "scrolled": true
   },
   "outputs": [
    {
     "data": {
      "image/png": "[encoded data removed]",
      "text/plain": [
       "<Figure size 640x480 with 1 Axes>"
      ]
     },
     "metadata": {},
     "output_type": "display_data"
    }
   ],
   "source": [
    "df[\"ride.alc.driver\"].value_counts().plot(kind=\"bar\")\n",
    "plt.title(\"Class Distribution\");"
   ]
  },
  {
   "cell_type": "code",
   "execution_count": 27,
   "id": "662ceec3",
   "metadata": {
    "scrolled": true
   },
   "outputs": [
    {
     "data": {
      "text/html": [
       "<div>\n",
       "<style scoped>\n",
       "    .dataframe tbody tr th:only-of-type {\n",
       "        vertical-align: middle;\n",
       "    }\n",
       "\n",
       "    .dataframe tbody tr th {\n",
       "        vertical-align: top;\n",
       "    }\n",
       "\n",
       "    .dataframe thead th {\n",
       "        text-align: right;\n",
       "    }\n",
       "</style>\n",
       "<table border=\"1\" class=\"dataframe\">\n",
       "  <thead>\n",
       "    <tr style=\"text-align: right;\">\n",
       "      <th></th>\n",
       "      <th>female</th>\n",
       "      <th>grade</th>\n",
       "      <th>age4</th>\n",
       "      <th>smoke</th>\n",
       "      <th>DriverLicense</th>\n",
       "    </tr>\n",
       "  </thead>\n",
       "  <tbody>\n",
       "    <tr>\n",
       "      <th>0</th>\n",
       "      <td>0.968496</td>\n",
       "      <td>0.437522</td>\n",
       "      <td>-0.117087</td>\n",
       "      <td>0.937923</td>\n",
       "      <td>0.695471</td>\n",
       "    </tr>\n",
       "    <tr>\n",
       "      <th>1</th>\n",
       "      <td>-1.032529</td>\n",
       "      <td>0.437522</td>\n",
       "      <td>-0.117087</td>\n",
       "      <td>0.937923</td>\n",
       "      <td>0.695471</td>\n",
       "    </tr>\n",
       "    <tr>\n",
       "      <th>2</th>\n",
       "      <td>-1.032529</td>\n",
       "      <td>0.437522</td>\n",
       "      <td>-0.117087</td>\n",
       "      <td>-1.066186</td>\n",
       "      <td>0.695471</td>\n",
       "    </tr>\n",
       "    <tr>\n",
       "      <th>3</th>\n",
       "      <td>-1.032529</td>\n",
       "      <td>1.341494</td>\n",
       "      <td>0.704577</td>\n",
       "      <td>-1.066186</td>\n",
       "      <td>0.695471</td>\n",
       "    </tr>\n",
       "    <tr>\n",
       "      <th>4</th>\n",
       "      <td>-1.032529</td>\n",
       "      <td>0.437522</td>\n",
       "      <td>0.704577</td>\n",
       "      <td>0.937923</td>\n",
       "      <td>0.695471</td>\n",
       "    </tr>\n",
       "    <tr>\n",
       "      <th>...</th>\n",
       "      <td>...</td>\n",
       "      <td>...</td>\n",
       "      <td>...</td>\n",
       "      <td>...</td>\n",
       "      <td>...</td>\n",
       "    </tr>\n",
       "    <tr>\n",
       "      <th>1995</th>\n",
       "      <td>-1.032529</td>\n",
       "      <td>0.437522</td>\n",
       "      <td>-0.117087</td>\n",
       "      <td>-1.066186</td>\n",
       "      <td>0.695471</td>\n",
       "    </tr>\n",
       "    <tr>\n",
       "      <th>1996</th>\n",
       "      <td>0.968496</td>\n",
       "      <td>0.437522</td>\n",
       "      <td>0.704577</td>\n",
       "      <td>0.937923</td>\n",
       "      <td>0.695471</td>\n",
       "    </tr>\n",
       "    <tr>\n",
       "      <th>1997</th>\n",
       "      <td>0.968496</td>\n",
       "      <td>-1.370421</td>\n",
       "      <td>-0.938751</td>\n",
       "      <td>0.937923</td>\n",
       "      <td>-1.437875</td>\n",
       "    </tr>\n",
       "    <tr>\n",
       "      <th>1998</th>\n",
       "      <td>0.968496</td>\n",
       "      <td>-0.466449</td>\n",
       "      <td>-0.117087</td>\n",
       "      <td>0.937923</td>\n",
       "      <td>0.695471</td>\n",
       "    </tr>\n",
       "    <tr>\n",
       "      <th>1999</th>\n",
       "      <td>-1.032529</td>\n",
       "      <td>1.341494</td>\n",
       "      <td>0.704577</td>\n",
       "      <td>-1.066186</td>\n",
       "      <td>0.695471</td>\n",
       "    </tr>\n",
       "  </tbody>\n",
       "</table>\n",
       "<p>2000 rows × 5 columns</p>\n",
       "</div>"
      ],
      "text/plain": [
       "        female     grade      age4     smoke  DriverLicense\n",
       "0     0.968496  0.437522 -0.117087  0.937923       0.695471\n",
       "1    -1.032529  0.437522 -0.117087  0.937923       0.695471\n",
       "2    -1.032529  0.437522 -0.117087 -1.066186       0.695471\n",
       "3    -1.032529  1.341494  0.704577 -1.066186       0.695471\n",
       "4    -1.032529  0.437522  0.704577  0.937923       0.695471\n",
       "...        ...       ...       ...       ...            ...\n",
       "1995 -1.032529  0.437522 -0.117087 -1.066186       0.695471\n",
       "1996  0.968496  0.437522  0.704577  0.937923       0.695471\n",
       "1997  0.968496 -1.370421 -0.938751  0.937923      -1.437875\n",
       "1998  0.968496 -0.466449 -0.117087  0.937923       0.695471\n",
       "1999 -1.032529  1.341494  0.704577 -1.066186       0.695471\n",
       "\n",
       "[2000 rows x 5 columns]"
      ]
     },
     "execution_count": 27,
     "metadata": {},
     "output_type": "execute_result"
    }
   ],
   "source": [
    "x = data.drop(['ride.alc.driver'], axis = 1)\n",
    "y = data['ride.alc.driver']\n",
    "\n",
    "scaler = StandardScaler()\n",
    "X = scaler.fit_transform(x)\n",
    "\n",
    "df = pd.DataFrame(X, columns = x.columns.values.tolist())\n",
    "df"
   ]
  },
  {
   "cell_type": "markdown",
   "id": "37a5ee14",
   "metadata": {},
   "source": [
    "### DATA SPIT\n",
    "Train:Val:Test = 8:2:2\n"
   ]
  },
  {
   "cell_type": "code",
   "execution_count": 8,
   "id": "12ff9ef5",
   "metadata": {},
   "outputs": [],
   "source": [
    "\n",
    "X_tr, X_te, y_tr, y_te = train_test_split(X, y, test_size=0.2, random_state=20)\n",
    "X_tr, X_val, y_tr, y_val = train_test_split(X_tr, y_tr, test_size=0.25, random_state=20)"
   ]
  },
  {
   "cell_type": "markdown",
   "id": "f777bfd2",
   "metadata": {},
   "source": [
    "### Model Construction"
   ]
  },
  {
   "cell_type": "code",
   "execution_count": 9,
   "id": "32108a2e",
   "metadata": {},
   "outputs": [],
   "source": [
    "###Logistic Regression\n",
    "\n",
    "\n",
    "model_lr = LogisticRegression()\n",
    "\n",
    "\n",
    "###Decision Tree\n",
    "\n",
    "\n",
    "model_dt = DecisionTreeClassifier()\n",
    "\n",
    "grid = {'min_samples_split': [5, 10, 20, 50, 100],\n",
    "       'max_depth': [5, 10, 15, 20]}\n",
    "\n",
    "model_dt = GridSearchCV(model_dt, grid, cv=5)\n",
    "\n",
    "\n",
    "###SVC\n",
    "\n",
    "model_svc = SVC()\n",
    "\n",
    "grid = {'kernel': ['linear','rbf','poly']}\n",
    "\n",
    "model_svc = GridSearchCV(model_svc, grid, cv=5)\n",
    "\n",
    "\n",
    "###kNN\n",
    "\n",
    "model_knn = KNeighborsClassifier() \n",
    "\n",
    "grid = {\"n_neighbors\":np.arange(1,30)}\n",
    "\n",
    "model_knn = GridSearchCV(model_knn, grid, cv=5)\n",
    "\n",
    "###Random Forest\n",
    "\n",
    "model_rf = RandomForestClassifier()\n",
    "\n",
    "grid = {'n_estimators':[100,200,300,400,500], 'max_depth': [2, 5, 10]}\n",
    "\n",
    "model_rf = GridSearchCV(model_rf, grid, cv=5)\n"
   ]
  },
  {
   "cell_type": "markdown",
   "id": "e814c018",
   "metadata": {},
   "source": [
    "### Train Model & Select Model"
   ]
  },
  {
   "cell_type": "markdown",
   "id": "a2dea6f0",
   "metadata": {},
   "source": [
    "---"
   ]
  },
  {
   "cell_type": "code",
   "execution_count": 10,
   "id": "8a6cff65",
   "metadata": {},
   "outputs": [
    {
     "name": "stdout",
     "output_type": "stream",
     "text": [
      "Training Accuracy :  0.6866666666666666\n",
      "Validation Accuracy :  0.7175\n"
     ]
    }
   ],
   "source": [
    "def accuracy(pre, y):\n",
    "    return sum(pre==y)/len(y)\n",
    "\n",
    "#########Logistic regression\n",
    "\n",
    "model_lr.fit(X_tr, y_tr)\n",
    "\n",
    "tr_pred_lr = model_lr.predict(X_tr)\n",
    "val_pred_lr = model_lr.predict(X_val)\n",
    "\n",
    "tr_acc_lr = accuracy_score(tr_pred_lr, y_tr)\n",
    "val_acc_lr = accuracy_score(val_pred_lr, y_val)\n",
    "\n",
    "print('Training Accuracy : ', tr_acc_lr)\n",
    "print('Validation Accuracy : ', val_acc_lr)"
   ]
  },
  {
   "cell_type": "code",
   "execution_count": 11,
   "id": "70b576a9",
   "metadata": {},
   "outputs": [
    {
     "name": "stdout",
     "output_type": "stream",
     "text": [
      "Training Accuracy :  0.6983333333333334\n",
      "Validation Accuracy :  0.6675\n"
     ]
    }
   ],
   "source": [
    "##########Decision Tree\n",
    "\n",
    "model_dt.fit(X_tr, y_tr)\n",
    "\n",
    "tr_pred_dt = model_dt.predict(X_tr)\n",
    "val_pred_dt = model_dt.predict(X_val)\n",
    "\n",
    "tr_acc_dt = accuracy_score(tr_pred_dt, y_tr)\n",
    "val_acc_dt = accuracy_score(val_pred_dt, y_val)\n",
    "\n",
    "print('Training Accuracy : ', tr_acc_dt)\n",
    "print('Validation Accuracy : ', val_acc_dt)"
   ]
  },
  {
   "cell_type": "code",
   "execution_count": 12,
   "id": "ff65be4b",
   "metadata": {},
   "outputs": [
    {
     "data": {
      "text/plain": [
       "{'max_depth': 10, 'min_samples_split': 100}"
      ]
     },
     "execution_count": 12,
     "metadata": {},
     "output_type": "execute_result"
    }
   ],
   "source": [
    "model_dt.best_params_"
   ]
  },
  {
   "cell_type": "code",
   "execution_count": 13,
   "id": "ebcdc35f",
   "metadata": {},
   "outputs": [
    {
     "name": "stdout",
     "output_type": "stream",
     "text": [
      "Training Accuracy :  0.6841666666666667\n",
      "Validation Accuracy :  0.7125\n"
     ]
    }
   ],
   "source": [
    "##########SVC\n",
    "\n",
    "model_svc.fit(X_tr, y_tr)\n",
    "\n",
    "tr_pred_svc = model_svc.predict(X_tr)\n",
    "val_pred_svc = model_svc.predict(X_val)\n",
    "\n",
    "tr_acc_svc = accuracy_score(tr_pred_svc, y_tr)\n",
    "val_acc_svc = accuracy_score(val_pred_svc, y_val)\n",
    "\n",
    "print('Training Accuracy : ', tr_acc_svc)\n",
    "print('Validation Accuracy : ', val_acc_svc)"
   ]
  },
  {
   "cell_type": "code",
   "execution_count": 14,
   "id": "2da9c3b6",
   "metadata": {},
   "outputs": [
    {
     "data": {
      "text/plain": [
       "{'kernel': 'poly'}"
      ]
     },
     "execution_count": 14,
     "metadata": {},
     "output_type": "execute_result"
    }
   ],
   "source": [
    "model_svc.best_params_"
   ]
  },
  {
   "cell_type": "code",
   "execution_count": 15,
   "id": "3d1017e9",
   "metadata": {},
   "outputs": [
    {
     "name": "stdout",
     "output_type": "stream",
     "text": [
      "Training Accuracy :  0.6891666666666667\n",
      "Validation Accuracy :  0.71\n"
     ]
    }
   ],
   "source": [
    "#####knn\n",
    "\n",
    "model_knn.fit(X_tr, y_tr)\n",
    "\n",
    "tr_pred_knn = model_knn.predict(X_tr)\n",
    "val_pred_knn = model_knn.predict(X_val)\n",
    "\n",
    "tr_acc_knn = accuracy_score(tr_pred_knn, y_tr)\n",
    "val_acc_knn = accuracy_score(val_pred_knn, y_val)\n",
    "\n",
    "print('Training Accuracy : ', tr_acc_knn)\n",
    "print('Validation Accuracy : ', val_acc_knn)"
   ]
  },
  {
   "cell_type": "code",
   "execution_count": 16,
   "id": "f056a577",
   "metadata": {
    "scrolled": true
   },
   "outputs": [
    {
     "data": {
      "text/plain": [
       "{'n_neighbors': 4}"
      ]
     },
     "execution_count": 16,
     "metadata": {},
     "output_type": "execute_result"
    }
   ],
   "source": [
    "model_knn.best_params_"
   ]
  },
  {
   "cell_type": "code",
   "execution_count": 28,
   "id": "4560af72",
   "metadata": {},
   "outputs": [
    {
     "name": "stdout",
     "output_type": "stream",
     "text": [
      "Training Accuracy :  0.7016666666666667\n",
      "Validation Accuracy :  0.67\n"
     ]
    }
   ],
   "source": [
    "######Random Forest\n",
    "\n",
    "\n",
    "model_rf.fit(X_tr, y_tr)\n",
    "\n",
    "tr_pred_rf = model_rf.predict(X_tr)\n",
    "val_pred_rf = model_rf.predict(X_val)\n",
    "\n",
    "tr_acc_rf = accuracy_score(tr_pred_rf, y_tr)\n",
    "val_acc_rf = accuracy_score(val_pred_rf, y_val)\n",
    "\n",
    "print('Training Accuracy : ', tr_acc_rf)\n",
    "print('Validation Accuracy : ', val_acc_rf)"
   ]
  },
  {
   "cell_type": "code",
   "execution_count": 18,
   "id": "2705271c",
   "metadata": {},
   "outputs": [
    {
     "data": {
      "text/html": [
       "<style type=\"text/css\">\n",
       "#T_11f4f_row0_col1, #T_11f4f_row3_col0 {\n",
       "  background-color: yellow;\n",
       "}\n",
       "</style>\n",
       "<table id=\"T_11f4f\">\n",
       "  <thead>\n",
       "    <tr>\n",
       "      <th class=\"blank level0\" >&nbsp;</th>\n",
       "      <th id=\"T_11f4f_level0_col0\" class=\"col_heading level0 col0\" >Train Accuracy</th>\n",
       "      <th id=\"T_11f4f_level0_col1\" class=\"col_heading level0 col1\" >Validation Accuracy</th>\n",
       "    </tr>\n",
       "  </thead>\n",
       "  <tbody>\n",
       "    <tr>\n",
       "      <th id=\"T_11f4f_level0_row0\" class=\"row_heading level0 row0\" >Logistic Regression</th>\n",
       "      <td id=\"T_11f4f_row0_col0\" class=\"data row0 col0\" >0.686667</td>\n",
       "      <td id=\"T_11f4f_row0_col1\" class=\"data row0 col1\" >0.717500</td>\n",
       "    </tr>\n",
       "    <tr>\n",
       "      <th id=\"T_11f4f_level0_row1\" class=\"row_heading level0 row1\" >KNN</th>\n",
       "      <td id=\"T_11f4f_row1_col0\" class=\"data row1 col0\" >0.689167</td>\n",
       "      <td id=\"T_11f4f_row1_col1\" class=\"data row1 col1\" >0.710000</td>\n",
       "    </tr>\n",
       "    <tr>\n",
       "      <th id=\"T_11f4f_level0_row2\" class=\"row_heading level0 row2\" >Decision Tree</th>\n",
       "      <td id=\"T_11f4f_row2_col0\" class=\"data row2 col0\" >0.698333</td>\n",
       "      <td id=\"T_11f4f_row2_col1\" class=\"data row2 col1\" >0.667500</td>\n",
       "    </tr>\n",
       "    <tr>\n",
       "      <th id=\"T_11f4f_level0_row3\" class=\"row_heading level0 row3\" >Random Forest</th>\n",
       "      <td id=\"T_11f4f_row3_col0\" class=\"data row3 col0\" >0.701667</td>\n",
       "      <td id=\"T_11f4f_row3_col1\" class=\"data row3 col1\" >0.670000</td>\n",
       "    </tr>\n",
       "    <tr>\n",
       "      <th id=\"T_11f4f_level0_row4\" class=\"row_heading level0 row4\" >SVC</th>\n",
       "      <td id=\"T_11f4f_row4_col0\" class=\"data row4 col0\" >0.684167</td>\n",
       "      <td id=\"T_11f4f_row4_col1\" class=\"data row4 col1\" >0.712500</td>\n",
       "    </tr>\n",
       "  </tbody>\n",
       "</table>\n"
      ],
      "text/plain": [
       "<pandas.io.formats.style.Styler at 0x2a3b781a740>"
      ]
     },
     "execution_count": 18,
     "metadata": {},
     "output_type": "execute_result"
    }
   ],
   "source": [
    "#모델별 accuracy 평가\n",
    "data_dic = {'Logistic Regression': [tr_acc_lr, val_acc_lr], 'KNN': [tr_acc_knn, val_acc_knn], 'Decision Tree': [tr_acc_dt, val_acc_dt], 'Random Forest': [tr_acc_rf, val_acc_rf], 'SVC': [tr_acc_svc, val_acc_svc]}\n",
    "df_acc = pd.DataFrame.from_dict(data_dic, orient = 'index', columns = ['Train Accuracy', 'Validation Accuracy'])\n",
    "df_acc.style.highlight_max(axis=0)"
   ]
  },
  {
   "cell_type": "markdown",
   "id": "8779c8f2",
   "metadata": {},
   "source": [
    "## Performance"
   ]
  },
  {
   "cell_type": "code",
   "execution_count": 29,
   "id": "f49b4961",
   "metadata": {},
   "outputs": [
    {
     "name": "stdout",
     "output_type": "stream",
     "text": [
      "Test Accuracy of Random Forest :  0.6475\n"
     ]
    }
   ],
   "source": [
    "#Test data에 대한 accuracy 평가\n",
    "te_pred_rf = model_rf.predict(X_te)\n",
    "te_acc_rf = accuracy_score(te_pred_rf, y_te)\n",
    "print('Test Accuracy of Random Forest : ', te_acc_rf)"
   ]
  },
  {
   "cell_type": "markdown",
   "id": "afa2652e",
   "metadata": {},
   "source": [
    "The results explains\n",
    "\n",
    "\tTrain Accuracy에서 가장 높은 퍼포먼스를 내는 Random Forest 를 최종 모델로 선정,\n",
    "    하지만 실제는 0.67 정도의 낮은 성능을 보임\n",
    "    \n",
    "    데이터의 대부분이 명목변수여서 높은 성능을 보이지 못하는 듯 보임.\n",
    "    추가적인 설명변수가 필요하다고 판단."
   ]
  }
 ],
 "metadata": {
  "kernelspec": {
   "display_name": "Python 3 (ipykernel)",
   "language": "python",
   "name": "python3"
  },
  "language_info": {
   "codemirror_mode": {
    "name": "ipython",
    "version": 3
   },
   "file_extension": ".py",
   "mimetype": "text/x-python",
   "name": "python",
   "nbconvert_exporter": "python",
   "pygments_lexer": "ipython3",
   "version": "3.10.9"
  }
 },
 "nbformat": 4,
 "nbformat_minor": 5
}
